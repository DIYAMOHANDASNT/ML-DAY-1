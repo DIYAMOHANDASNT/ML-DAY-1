{
  "nbformat": 4,
  "nbformat_minor": 0,
  "metadata": {
    "colab": {
      "provenance": []
    },
    "kernelspec": {
      "name": "python3",
      "display_name": "Python 3"
    },
    "language_info": {
      "name": "python"
    }
  },
  "cells": [
    {
      "cell_type": "code",
      "source": [
        "import math\n",
        "\n",
        "class Calculator:\n",
        "    @staticmethod\n",
        "    def add(x, y):\n",
        "        return x + y\n",
        "\n",
        "    @staticmethod\n",
        "    def sub(x, y):\n",
        "        return x - y\n",
        "\n",
        "    @staticmethod\n",
        "    def mul(x, y):\n",
        "        return x * y\n",
        "\n",
        "    @staticmethod\n",
        "    def div(x, y):\n",
        "        if y != 0:\n",
        "            return x / y\n",
        "        else:\n",
        "            return \"Cannot be divided by zero\"\n",
        "\n",
        "    @staticmethod\n",
        "    def sqrt(x):\n",
        "        return math.sqrt(x)\n",
        "\n",
        "    @staticmethod\n",
        "    def power(x, y):\n",
        "        return math.pow(x, y)\n",
        "\n",
        "operation = input(\"Enter the operation in the format 'number1 operator number2' (e.g., 1 + 2): \")\n",
        "\n",
        "operands = operation.split()\n",
        "x = float(operands[0])\n",
        "y = float(operands[2])\n",
        "op = operands[1]\n",
        "\n",
        "result = None\n",
        "if op == '+':\n",
        "    result = Calculator.add(x, y)\n",
        "elif op == '-':\n",
        "    result = Calculator.sub(x, y)\n",
        "elif op == '*':\n",
        "    result = Calculator.mul(x, y)\n",
        "elif op == '/':\n",
        "    result = Calculator.div(x, y)\n",
        "elif op == 'sqrt':\n",
        "    result = Calculator.sqrt(x)\n",
        "elif op == 'pow':\n",
        "    result = Calculator.power(x, y)\n",
        "else:\n",
        "    print(\"Invalid operator\")\n",
        "\n",
        "if result is not None:\n",
        "    print(f\"The result of {operation} is {result}\")\n"
      ],
      "metadata": {
        "colab": {
          "base_uri": "https://localhost:8080/"
        },
        "id": "OgW6ESCECzA0",
        "outputId": "e20844fc-c950-4e5c-a535-7a0aa9b4259d"
      },
      "execution_count": 20,
      "outputs": [
        {
          "output_type": "stream",
          "name": "stdout",
          "text": [
            "Enter the operation in the format 'number1 operator number2' (e.g., 1 + 2): 4 sqrt 0\n",
            "The result of 4 sqrt 0 is 2.0\n"
          ]
        }
      ]
    }
  ]
}