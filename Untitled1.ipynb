{
  "nbformat": 4,
  "nbformat_minor": 0,
  "metadata": {
    "colab": {
      "provenance": [],
      "authorship_tag": "ABX9TyOd1F6FAHQhVyZ/rTlyQxCk",
      "include_colab_link": true
    },
    "kernelspec": {
      "name": "python3",
      "display_name": "Python 3"
    },
    "language_info": {
      "name": "python"
    }
  },
  "cells": [
    {
      "cell_type": "markdown",
      "metadata": {
        "id": "view-in-github",
        "colab_type": "text"
      },
      "source": [
        "<a href=\"https://colab.research.google.com/github/DIYAMOHANDASNT/ML-DAY-1/blob/main/Untitled1.ipynb\" target=\"_parent\"><img src=\"https://colab.research.google.com/assets/colab-badge.svg\" alt=\"Open In Colab\"/></a>"
      ]
    },
    {
      "cell_type": "code",
      "execution_count": 6,
      "metadata": {
        "colab": {
          "base_uri": "https://localhost:8080/"
        },
        "id": "CA_IQFUmk-_o",
        "outputId": "ce7720cb-97a4-4894-fa6e-12d9c4d10563"
      },
      "outputs": [
        {
          "output_type": "stream",
          "name": "stdout",
          "text": [
            "4 + 2 =  6\n",
            "4 - 2 =  2\n",
            "4 * 2 =  8\n",
            "4 / 2 =  2.0\n"
          ]
        }
      ],
      "source": [
        "class Calculator:\n",
        "  def add(x,y):\n",
        "    return x+y\n",
        "  def sub(x,y):\n",
        "    return (x-y)\n",
        "  def mul(x,y):\n",
        "    return x*y\n",
        "  def div(x,y):\n",
        "    if y!=0:\n",
        "      return x/y\n",
        "    else:\n",
        "      return(\"Cannot be divided by zero\")\n",
        "\n",
        "x=int(input(\"Enter the first number\"))\n",
        "y=int(input(\"Enter the second number\"))\n",
        "\n",
        "print(\"x + y = \",Calculator.add(x,y))\n",
        "print(\"x - y = \",Calculator.sub(x,y))\n",
        "print(\"x * y = \",Calculator.mul(x,y))\n",
        "print(\"x / y = \",Calculator.div(x,y))"
      ]
    },
    {
      "cell_type": "code",
      "source": [
        "class Calculator:\n",
        "    def add(x, y):\n",
        "        return x + y\n",
        "\n",
        "    def sub(x, y):\n",
        "        return x - y\n",
        "\n",
        "    def mul(x, y):\n",
        "        return x * y\n",
        "\n",
        "    def div(x, y):\n",
        "        if y != 0:\n",
        "            return x / y\n",
        "        else:\n",
        "            return \"Cannot be divided by zero\"\n",
        "\n",
        "x = int(input(\"Enter the first number: \"))\n",
        "y = int(input(\"Enter the second number: \"))\n",
        "op = input(\"Enter the operation symbol (+, -, *, /): \")\n",
        "\n",
        "if op == '+':\n",
        "    print(\"x + y = \", Calculator.add(x, y))\n",
        "elif op == '-':\n",
        "    print(\"x - y = \", Calculator.sub(x, y))\n",
        "elif op == '*':\n",
        "    print(\"x * y = \", Calculator.mul(x, y))\n",
        "elif op == '/':\n",
        "    print(\"x / y = \", Calculator.div(x, y))\n",
        "else:\n",
        "    print(\"Invalid operation symbol\")\n"
      ],
      "metadata": {
        "colab": {
          "base_uri": "https://localhost:8080/"
        },
        "id": "KKWgGR_BzjF0",
        "outputId": "6576029b-4a34-4d87-f068-69316f57a0e3"
      },
      "execution_count": 8,
      "outputs": [
        {
          "output_type": "stream",
          "name": "stdout",
          "text": [
            "Enter the first number: 10\n",
            "Enter the second number: 5\n",
            "Enter the operation symbol (+, -, *, /): /\n",
            "x / y =  2.0\n"
          ]
        }
      ]
    },
    {
      "cell_type": "code",
      "source": [
        "class Calculator:\n",
        "    @staticmethod\n",
        "    def add(x, y):\n",
        "        return x + y\n",
        "\n",
        "    @staticmethod\n",
        "    def sub(x, y):\n",
        "        return x - y\n",
        "\n",
        "    @staticmethod\n",
        "    def mul(x, y):\n",
        "        return x * y\n",
        "\n",
        "    @staticmethod\n",
        "    def div(x, y):\n",
        "        if y != 0:\n",
        "            return x / y\n",
        "        else:\n",
        "            return \"Cannot be divided by zero\"\n",
        "\n",
        "operation = input(\"Enter the operation in the format 'number1 operator number2' (e.g., 1 + 2): \")\n",
        "\n",
        "operands = operation.split()\n",
        "x = float(operands[0])\n",
        "y = float(operands[2])\n",
        "op = operands[1]\n",
        "\n",
        "result = None\n",
        "if op == '+':\n",
        "    result = Calculator.add(x, y)\n",
        "elif op == '-':\n",
        "    result = Calculator.sub(x, y)\n",
        "elif op == '*':\n",
        "    result = Calculator.mul(x, y)\n",
        "elif op == '/':\n",
        "    result = Calculator.div(x, y)\n",
        "else:\n",
        "    print(\"Invalid operator\")\n",
        "\n",
        "if result is not None:\n",
        "    print(f\"The result of {operation} is {result}\")\n"
      ],
      "metadata": {
        "colab": {
          "base_uri": "https://localhost:8080/"
        },
        "id": "8GTPVysy1SSc",
        "outputId": "4916120c-c5a9-4c74-b50b-ce44876f2f72"
      },
      "execution_count": 13,
      "outputs": [
        {
          "output_type": "stream",
          "name": "stdout",
          "text": [
            "Enter the operation in the format 'number1 operator number2' (e.g., 1 + 2): 100 / 2\n",
            "The result of 100 / 2 is 50.0\n"
          ]
        }
      ]
    }
  ]
}